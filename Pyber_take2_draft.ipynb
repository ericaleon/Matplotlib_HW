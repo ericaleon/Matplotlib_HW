{
 "cells": [
  {
   "cell_type": "code",
   "execution_count": null,
   "metadata": {},
   "outputs": [],
   "source": [
    "%matplotlib inline\n",
    "# Dependencies and Setup\n",
    "import matplotlib.pyplot as plt\n",
    "import pandas as pd\n",
    "import numpy as np\n",
    "\n",
    "# Files to load\n",
    "city_file = \"data/city_data.csv\"\n",
    "ride_file = \"data/ride_data.csv\"\n",
    "\n",
    "# Read city and ride data files\n",
    "city_data = pd.read_csv(city_file)\n",
    "ride_data = pd.read_csv(ride_file)\n",
    "\n",
    "# Combine the data into a single dataset\n",
    "all_data = pd.merge(ride_data, city_data, on='city')\n",
    "\n",
    "# Display the data table for preview\n",
    "# all_data.sample(5)\n",
    "city_data.head(3)"
   ]
  },
  {
   "cell_type": "code",
   "execution_count": null,
   "metadata": {},
   "outputs": [],
   "source": [
    "# (still in progress) Try creating bubble plot using separate \n",
    "# dataframes for each - rural, suburban, urban\n",
    "\n",
    "\n",
    "# Create dataframe with index set to city type\n",
    "data_indexed = all_data.set_index('type')\n",
    "city_indexed = city_data.set_index('type')\n",
    "\n",
    "# df for avg fare and driver counts\n",
    "rural = [{'City':[],'Ride Count':[],'Driver Count':[],'Avg Fare':[]}]\n",
    "rural['City'] = city_indexed\n",
    "rural\n",
    "# bubble = data_bubble[['city','fare','driver_count']]\n",
    "# bubble_ = data_bubble.groupby('city').mean()\n",
    "\n",
    "# # df to collect ride counts from\n",
    "# bubble_rides = data_bubble[['city','ride_id']]\n",
    "\n",
    "# rur_fare = bubble.loc['Rural',['fare']]\n",
    "# sub_fare = bubble.loc['Suburban',['fare']]\n",
    "# urb_fare = bubble.loc['Urban',['fare']]\n",
    "\n",
    "# rur_drivers = bubble.loc['Rural',['driver_count']]\n",
    "# sub_drivers = bubble.loc['Suburban',['driver_count']]\n",
    "# urb_drivers = bubble.loc['Urban',['driver_count']]\n",
    "\n",
    "# # need to find a way to map city back to city type for below...\n",
    "# rur_rides = all_data['type','city','ride_id']\n"
   ]
  }
 ],
 "metadata": {
  "kernelspec": {
   "display_name": "Python 3",
   "language": "python",
   "name": "python3"
  },
  "language_info": {
   "codemirror_mode": {
    "name": "ipython",
    "version": 3
   },
   "file_extension": ".py",
   "mimetype": "text/x-python",
   "name": "python",
   "nbconvert_exporter": "python",
   "pygments_lexer": "ipython3",
   "version": "3.6.7"
  }
 },
 "nbformat": 4,
 "nbformat_minor": 2
}
